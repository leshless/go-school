{
  "nbformat": 4,
  "nbformat_minor": 0,
  "metadata": {
    "kernelspec": {
      "display_name": "Python 3",
      "language": "python",
      "name": "python3"
    },
    "language_info": {
      "codemirror_mode": {
        "name": "ipython",
        "version": 3
      },
      "file_extension": ".py",
      "mimetype": "text/x-python",
      "name": "python",
      "nbconvert_exporter": "python",
      "pygments_lexer": "ipython3",
      "version": "3.7.3"
    },
    "colab": {
      "provenance": [],
      "include_colab_link": true
    }
  },
  "cells": [
    {
      "cell_type": "markdown",
      "metadata": {
        "id": "view-in-github",
        "colab_type": "text"
      },
      "source": [
        "<a href=\"https://colab.research.google.com/github/leshless/go-school/blob/main/python_algebra/task12.ipynb\" target=\"_parent\"><img src=\"https://colab.research.google.com/assets/colab-badge.svg\" alt=\"Open In Colab\"/></a>"
      ]
    },
    {
      "cell_type": "code",
      "metadata": {
        "id": "icrkYljeEln7"
      },
      "source": [
        "import sympy\n",
        "from sympy import Matrix, S, Symbol, symbols, I, zeros, eye\n",
        "from sympy import simplify, expand, expand_complex, latex\n",
        "import numpy as np\n",
        "from IPython.display import Latex"
      ],
      "execution_count": null,
      "outputs": []
    },
    {
      "cell_type": "markdown",
      "metadata": {
        "id": "t-ZvhFPEEln9"
      },
      "source": [
        "# Практическое занятие 12\n",
        "# Компьютерный практикум по алгебре на Python\n",
        "## Матричные разложения: Холецкого, LDL, LU, QR."
      ]
    },
    {
      "cell_type": "markdown",
      "source": [
        "### Задание 1\n",
        "Построить скелетное разложение для матрицы\n",
        "$\n",
        "\\left(\n",
        "\\begin{matrix}\n",
        "1 & 2 & -5 & 9 & 1\\\\\n",
        "4 & 3 & -3 & 4 & 1\\\\\n",
        "5 & 5 & -8 & 13 & 2\\\\\n",
        "3 & 1 & 2 & -5 & 0\n",
        "\\end{matrix}\n",
        "\\right)\n",
        "$\n",
        "Вывести на экран все элементы разложения.  Проверить, что получено разложение именно этиой матрицы (соответствующее произведение равно исходной матрице)."
      ],
      "metadata": {
        "id": "_3IPblWqmWxY"
      }
    },
    {
      "cell_type": "code",
      "source": [
        "A = Matrix([\n",
        "    [1, 2, -5, 9, 1],\n",
        "    [4, 3, -3, 4, 1],\n",
        "    [5, 5, -8, 13, 2],\n",
        "    [3, 1, 2, -5, 0]\n",
        "])\n",
        "\n",
        "A_rref, cols = A.rref()\n",
        "k = len(cols)\n",
        "display(A_rref)\n",
        "\n",
        "B = A[:, cols]\n",
        "C = A_rref[:k, :]\n",
        "\n",
        "display(B * C)\n",
        "\n",
        "assert B*C == A"
      ],
      "metadata": {
        "id": "vq8Glj6WtGGy",
        "colab": {
          "base_uri": "https://localhost:8080/",
          "height": 180
        },
        "outputId": "a19b7fda-a702-4b9f-a405-1e82fdc0ffb2"
      },
      "execution_count": null,
      "outputs": [
        {
          "output_type": "display_data",
          "data": {
            "text/plain": [
              "Matrix([\n",
              "[1, 0,   9/5, -19/5, -1/5],\n",
              "[0, 1, -17/5,  32/5,  3/5],\n",
              "[0, 0,     0,     0,    0],\n",
              "[0, 0,     0,     0,    0]])"
            ],
            "text/latex": "$\\displaystyle \\left[\\begin{matrix}1 & 0 & \\frac{9}{5} & - \\frac{19}{5} & - \\frac{1}{5}\\\\0 & 1 & - \\frac{17}{5} & \\frac{32}{5} & \\frac{3}{5}\\\\0 & 0 & 0 & 0 & 0\\\\0 & 0 & 0 & 0 & 0\\end{matrix}\\right]$"
          },
          "metadata": {}
        },
        {
          "output_type": "display_data",
          "data": {
            "text/plain": [
              "Matrix([\n",
              "[1, 2, -5,  9, 1],\n",
              "[4, 3, -3,  4, 1],\n",
              "[5, 5, -8, 13, 2],\n",
              "[3, 1,  2, -5, 0]])"
            ],
            "text/latex": "$\\displaystyle \\left[\\begin{matrix}1 & 2 & -5 & 9 & 1\\\\4 & 3 & -3 & 4 & 1\\\\5 & 5 & -8 & 13 & 2\\\\3 & 1 & 2 & -5 & 0\\end{matrix}\\right]$"
          },
          "metadata": {}
        }
      ]
    },
    {
      "cell_type": "markdown",
      "metadata": {
        "id": "iLYVC4z3Eln-"
      },
      "source": [
        "### Задание 2.\n",
        "Построить разложение Холецкого матриц\n",
        "$$\n",
        "M_1=\\left(\n",
        "\\begin{matrix}\n",
        "1&-3&0\\\\\n",
        "-3&-2&10\\\\\n",
        "0&10&7\n",
        "\\end{matrix}\n",
        "\\right)\n",
        "\\quad\n",
        "M_2=\\left(\n",
        "\\begin{matrix}\n",
        "18&1 - 2I& -2\\\\\n",
        "1 + 2I&4&-3I\\\\\n",
        "-2&3I&5\n",
        "\\end{matrix}\n",
        "\\right)\n",
        "$$\n",
        "Проверить положительную определенность эрмитовой матрицы. Проверить, что получено разложение именно этих матриц (соответствующее произведение равно исходной матрице)."
      ]
    },
    {
      "cell_type": "code",
      "source": [
        "M1 = Matrix([\n",
        "    [1, -3, 0],\n",
        "    [-3, -2, 10],\n",
        "    [0, 10, 7]\n",
        "])\n",
        "\n",
        "display(M1.H)\n",
        "\n",
        "is_hermitian_M1 = M1 == M1.H\n",
        "is_positive_definite_M1 = all(M1[:i, :i].det() > 0 for i in range(1, M1.shape[0] + 1))\n",
        "\n",
        "L_M1 = None\n",
        "if is_hermitian_M1 and is_positive_definite_M1:\n",
        "  L_M1 = M1.cholesky()\n",
        "\n",
        "  display(\"is_positive_definite: True\")\n",
        "  display(L_M1)\n",
        "else:\n",
        "  display(\"is_positive_definite: False\")\n",
        "\n",
        "\n",
        "M1 = Matrix([\n",
        "    [18, 1 - 2*I, -2],\n",
        "    [1 + 2*I, 4, -3*I],\n",
        "    [-2, 3*I, 5]\n",
        "])\n",
        "\n",
        "display(M1.H)\n",
        "\n",
        "is_hermitian_M1 = M1 == M1.H\n",
        "is_positive_definite_M1 = all(M1[:i, :i].det() > 0 for i in range(1, M1.shape[0] + 1))\n",
        "\n",
        "L_M1 = None\n",
        "if is_hermitian_M1 and is_positive_definite_M1:\n",
        "  L_M1 = M1.cholesky()\n",
        "\n",
        "  display(\"is_positive_definite: True\")\n",
        "  display(L_M1)\n",
        "else:\n",
        "  display(\"is_positive_definite: False\")"
      ],
      "metadata": {
        "id": "T698XeuWtHQV",
        "colab": {
          "base_uri": "https://localhost:8080/",
          "height": 272
        },
        "outputId": "69ce8f49-b65b-471d-c952-ad6367ceaa72"
      },
      "execution_count": null,
      "outputs": [
        {
          "output_type": "display_data",
          "data": {
            "text/plain": [
              "Matrix([\n",
              "[ 1, -3,  0],\n",
              "[-3, -2, 10],\n",
              "[ 0, 10,  7]])"
            ],
            "text/latex": "$\\displaystyle \\left[\\begin{matrix}1 & -3 & 0\\\\-3 & -2 & 10\\\\0 & 10 & 7\\end{matrix}\\right]$"
          },
          "metadata": {}
        },
        {
          "output_type": "display_data",
          "data": {
            "text/plain": [
              "'is_positive_definite: False'"
            ],
            "application/vnd.google.colaboratory.intrinsic+json": {
              "type": "string"
            }
          },
          "metadata": {}
        },
        {
          "output_type": "display_data",
          "data": {
            "text/plain": [
              "Matrix([\n",
              "[     18, 1 - 2*I,   -2],\n",
              "[1 + 2*I,       4, -3*I],\n",
              "[     -2,     3*I,    5]])"
            ],
            "text/latex": "$\\displaystyle \\left[\\begin{matrix}18 & 1 - 2 i & -2\\\\1 + 2 i & 4 & - 3 i\\\\-2 & 3 i & 5\\end{matrix}\\right]$"
          },
          "metadata": {}
        },
        {
          "output_type": "display_data",
          "data": {
            "text/plain": [
              "'is_positive_definite: True'"
            ],
            "application/vnd.google.colaboratory.intrinsic+json": {
              "type": "string"
            }
          },
          "metadata": {}
        },
        {
          "output_type": "display_data",
          "data": {
            "text/plain": [
              "Matrix([\n",
              "[          3*sqrt(2),                                                0,                                                                        0],\n",
              "[sqrt(2)*(1 + 2*I)/6,                sqrt(-(1 - 2*I)*(1 + 2*I)/18 + 4),                                                                        0],\n",
              "[         -sqrt(2)/3, (1/9 + 25*I/9)/sqrt(-(1 - 2*I)*(1 + 2*I)/18 + 4), sqrt(43/9 - (1/9 - 25*I/9)*(1/9 + 25*I/9)/(-(1 - 2*I)*(1 + 2*I)/18 + 4))]])"
            ],
            "text/latex": "$\\displaystyle \\left[\\begin{matrix}3 \\sqrt{2} & 0 & 0\\\\\\frac{\\sqrt{2} \\left(1 + 2 i\\right)}{6} & \\sqrt{- \\frac{\\left(1 - 2 i\\right) \\left(1 + 2 i\\right)}{18} + 4} & 0\\\\- \\frac{\\sqrt{2}}{3} & \\frac{\\frac{1}{9} + \\frac{25 i}{9}}{\\sqrt{- \\frac{\\left(1 - 2 i\\right) \\left(1 + 2 i\\right)}{18} + 4}} & \\sqrt{\\frac{43}{9} - \\frac{\\left(\\frac{1}{9} - \\frac{25 i}{9}\\right) \\left(\\frac{1}{9} + \\frac{25 i}{9}\\right)}{- \\frac{\\left(1 - 2 i\\right) \\left(1 + 2 i\\right)}{18} + 4}}\\end{matrix}\\right]$"
          },
          "metadata": {}
        }
      ]
    },
    {
      "cell_type": "markdown",
      "metadata": {
        "id": "qrvNv_U7EloA"
      },
      "source": [
        "### Задание 3.\n",
        "Построить  LDL разложение для матриц Задания 2. Вывести на экран все элементы разложения. Проверить, что получено разложение именно этих матриц (соответствующее произведение равно исходной матрице)."
      ]
    },
    {
      "cell_type": "code",
      "source": [
        "M1 = Matrix([\n",
        "    [1, -3, 0],\n",
        "    [-3, -2, 10],\n",
        "    [0, 10, 7]\n",
        "])\n",
        "\n",
        "L_M1, D_M1 = M1.LDLdecomposition(hermitian=False)\n",
        "\n",
        "display(L_M1, D_M1)\n",
        "assert L_M1 * D_M1 * L_M1.T == M1\n",
        "\n",
        "\n",
        "M1 = Matrix([\n",
        "    [18, 1 - 2*I, -2],\n",
        "    [1 + 2*I, 4, -3*I],\n",
        "    [-2, 3*I, 5]\n",
        "])\n",
        "\n",
        "L_M1, D_M1 = M1.LDLdecomposition()\n",
        "\n",
        "display(L_M1, D_M1)\n",
        "assert sympy.simplify(L_M1 * D_M1 * L_M1.H) == M1"
      ],
      "metadata": {
        "id": "LEqC_JtYtI61",
        "colab": {
          "base_uri": "https://localhost:8080/",
          "height": 290
        },
        "outputId": "900d9b21-e69c-42a0-b302-6b9957c612f7"
      },
      "execution_count": null,
      "outputs": [
        {
          "output_type": "display_data",
          "data": {
            "text/plain": [
              "Matrix([\n",
              "[ 1,      0, 0],\n",
              "[-3,      1, 0],\n",
              "[ 0, -10/11, 1]])"
            ],
            "text/latex": "$\\displaystyle \\left[\\begin{matrix}1 & 0 & 0\\\\-3 & 1 & 0\\\\0 & - \\frac{10}{11} & 1\\end{matrix}\\right]$"
          },
          "metadata": {}
        },
        {
          "output_type": "display_data",
          "data": {
            "text/plain": [
              "Matrix([\n",
              "[1,   0,      0],\n",
              "[0, -11,      0],\n",
              "[0,   0, 177/11]])"
            ],
            "text/latex": "$\\displaystyle \\left[\\begin{matrix}1 & 0 & 0\\\\0 & -11 & 0\\\\0 & 0 & \\frac{177}{11}\\end{matrix}\\right]$"
          },
          "metadata": {}
        },
        {
          "output_type": "display_data",
          "data": {
            "text/plain": [
              "Matrix([\n",
              "[         1,                                                  0, 0],\n",
              "[1/18 + I/9,                                                  1, 0],\n",
              "[      -1/9, (1/9 + 25*I/9)/(-18*(1/18 - I/9)*(1/18 + I/9) + 4), 1]])"
            ],
            "text/latex": "$\\displaystyle \\left[\\begin{matrix}1 & 0 & 0\\\\\\frac{1}{18} + \\frac{i}{9} & 1 & 0\\\\- \\frac{1}{9} & \\frac{\\frac{1}{9} + \\frac{25 i}{9}}{- 18 \\left(\\frac{1}{18} - \\frac{i}{9}\\right) \\left(\\frac{1}{18} + \\frac{i}{9}\\right) + 4} & 1\\end{matrix}\\right]$"
          },
          "metadata": {}
        },
        {
          "output_type": "display_data",
          "data": {
            "text/plain": [
              "Matrix([\n",
              "[18,                                 0,                                                                        0],\n",
              "[ 0, -18*(1/18 - I/9)*(1/18 + I/9) + 4,                                                                        0],\n",
              "[ 0,                                 0, 43/9 - (1/9 - 25*I/9)*(1/9 + 25*I/9)/(-18*(1/18 - I/9)*(1/18 + I/9) + 4)]])"
            ],
            "text/latex": "$\\displaystyle \\left[\\begin{matrix}18 & 0 & 0\\\\0 & - 18 \\left(\\frac{1}{18} - \\frac{i}{9}\\right) \\left(\\frac{1}{18} + \\frac{i}{9}\\right) + 4 & 0\\\\0 & 0 & \\frac{43}{9} - \\frac{\\left(\\frac{1}{9} - \\frac{25 i}{9}\\right) \\left(\\frac{1}{9} + \\frac{25 i}{9}\\right)}{- 18 \\left(\\frac{1}{18} - \\frac{i}{9}\\right) \\left(\\frac{1}{18} + \\frac{i}{9}\\right) + 4}\\end{matrix}\\right]$"
          },
          "metadata": {}
        }
      ]
    },
    {
      "cell_type": "markdown",
      "metadata": {
        "id": "FVp0Db5lEloB"
      },
      "source": [
        "### Задание  4.\n",
        "Построить  LU разложение для матрицы\n",
        "$$\n",
        "V=\\left(\n",
        "\\begin{matrix}\n",
        "5&-2 - I&3 - 4I&1 + 4I\\\\\n",
        "1 - I&-2&5 - I&2 - I\\\\\n",
        "5&6 + I&0&5\n",
        "\\end{matrix}\n",
        "\\right)\n",
        "$$\n",
        "Вывести на экран все элементы разложения.\n",
        "\n",
        "Проверить, что получено разложение именно этой матрицы (соответствующее произведение равно исходной матрице)."
      ]
    },
    {
      "cell_type": "code",
      "source": [
        "V = Matrix([\n",
        "    [5, -2 - I, 3 - 4*I, 1 + 4*I],\n",
        "    [1 - I, -2, 5 - I, 2 - I],\n",
        "    [5, 6 + I, 0, 5]\n",
        "])\n",
        "\n",
        "L, U, perm = V.LUdecomposition()\n",
        "number_of_rows = V.shape[0]\n",
        "display(L, U, perm)\n",
        "\n",
        "P = eye(number_of_rows).permuteFwd(perm)\n",
        "assert simplify(P * V) == simplify(L * U)"
      ],
      "metadata": {
        "colab": {
          "base_uri": "https://localhost:8080/",
          "height": 177
        },
        "outputId": "f2b9f93e-c9b4-464a-d48c-9b7ea2d49574",
        "id": "VT1AREcvOBpv"
      },
      "execution_count": null,
      "outputs": [
        {
          "output_type": "display_data",
          "data": {
            "text/plain": [
              "Matrix([\n",
              "[        1,                                        0, 0],\n",
              "[        1,                                        1, 0],\n",
              "[1/5 - I/5, (-2 - (-2 - I)*(1/5 - I/5))*(8 - 2*I)/68, 1]])"
            ],
            "text/latex": "$\\displaystyle \\left[\\begin{matrix}1 & 0 & 0\\\\1 & 1 & 0\\\\\\frac{1}{5} - \\frac{i}{5} & \\frac{\\left(-2 - \\left(-2 - i\\right) \\left(\\frac{1}{5} - \\frac{i}{5}\\right)\\right) \\left(8 - 2 i\\right)}{68} & 1\\end{matrix}\\right]$"
          },
          "metadata": {}
        },
        {
          "output_type": "display_data",
          "data": {
            "text/plain": [
              "Matrix([\n",
              "[5,  -2 - I,                                                                             3 - 4*I,                                                                            1 + 4*I],\n",
              "[0, 8 + 2*I,                                                                            -3 + 4*I,                                                                            4 - 4*I],\n",
              "[0,       0, 5 - I - (-3 + 4*I)*(-2 - (-2 - I)*(1/5 - I/5))*(8 - 2*I)/68 - (1/5 - I/5)*(3 - 4*I), 2 - I - (-2 - (-2 - I)*(1/5 - I/5))*(4 - 4*I)*(8 - 2*I)/68 - (1/5 - I/5)*(1 + 4*I)]])"
            ],
            "text/latex": "$\\displaystyle \\left[\\begin{matrix}5 & -2 - i & 3 - 4 i & 1 + 4 i\\\\0 & 8 + 2 i & -3 + 4 i & 4 - 4 i\\\\0 & 0 & 5 - i - \\frac{\\left(-3 + 4 i\\right) \\left(-2 - \\left(-2 - i\\right) \\left(\\frac{1}{5} - \\frac{i}{5}\\right)\\right) \\left(8 - 2 i\\right)}{68} - \\left(\\frac{1}{5} - \\frac{i}{5}\\right) \\left(3 - 4 i\\right) & 2 - i - \\frac{\\left(-2 - \\left(-2 - i\\right) \\left(\\frac{1}{5} - \\frac{i}{5}\\right)\\right) \\left(4 - 4 i\\right) \\left(8 - 2 i\\right)}{68} - \\left(\\frac{1}{5} - \\frac{i}{5}\\right) \\left(1 + 4 i\\right)\\end{matrix}\\right]$"
          },
          "metadata": {}
        },
        {
          "output_type": "display_data",
          "data": {
            "text/plain": [
              "[[1, 2]]"
            ]
          },
          "metadata": {}
        }
      ]
    },
    {
      "cell_type": "markdown",
      "metadata": {
        "id": "w9-3cXYHEloC"
      },
      "source": [
        "### Задание  5.\n",
        "Построить  QR разложение для матрицы\n",
        "$$\n",
        "A=\\left(\n",
        "\\begin{matrix}\n",
        "3 + i&  2 & -i\\\\\n",
        "-2 & -3 &  i\\\\\n",
        "1 + i & -1 &  0\n",
        "\\end{matrix}\n",
        "\\right).\n",
        "$$\n",
        "Вывести на экран все элементы разложения и показать, что $A = QR$."
      ]
    },
    {
      "cell_type": "code",
      "source": [
        "A = Matrix([\n",
        "    [3 + I, 2, -I],\n",
        "    [-2, -3, I],\n",
        "    [1 + I, -1, 0]\n",
        "])\n",
        "\n",
        "Q, R = A.QRdecomposition()\n",
        "display(Q, R)\n",
        "\n",
        "assert A == simplify(Q * R)"
      ],
      "metadata": {
        "id": "AAw-p3gytL0i",
        "colab": {
          "base_uri": "https://localhost:8080/",
          "height": 153
        },
        "outputId": "8399b70b-5729-48dc-b000-580126bf09f8"
      },
      "execution_count": null,
      "outputs": [
        {
          "output_type": "display_data",
          "data": {
            "text/plain": [
              "Matrix([\n",
              "[3/4 + I/4,   2*sqrt(102)*(-1/8 - I/2)/51],\n",
              "[     -1/2,  2*sqrt(102)*(-13/8 - I/8)/51],\n",
              "[1/4 + I/4, 2*sqrt(102)*(-7/4 - 5*I/8)/51]])"
            ],
            "text/latex": "$\\displaystyle \\left[\\begin{matrix}\\frac{3}{4} + \\frac{i}{4} & \\frac{2 \\sqrt{102} \\left(- \\frac{1}{8} - \\frac{i}{2}\\right)}{51}\\\\- \\frac{1}{2} & \\frac{2 \\sqrt{102} \\left(- \\frac{13}{8} - \\frac{i}{8}\\right)}{51}\\\\\\frac{1}{4} + \\frac{i}{4} & \\frac{2 \\sqrt{102} \\left(- \\frac{7}{4} - \\frac{5 i}{8}\\right)}{51}\\end{matrix}\\right]$"
          },
          "metadata": {}
        },
        {
          "output_type": "display_data",
          "data": {
            "text/plain": [
              "Matrix([\n",
              "[4,  11/4 - I/4,                -1/4 - 5*I/4],\n",
              "[0, sqrt(102)/4, sqrt(102)*(1/17 - 4*I/17)/4]])"
            ],
            "text/latex": "$\\displaystyle \\left[\\begin{matrix}4 & \\frac{11}{4} - \\frac{i}{4} & - \\frac{1}{4} - \\frac{5 i}{4}\\\\0 & \\frac{\\sqrt{102}}{4} & \\frac{\\sqrt{102} \\left(\\frac{1}{17} - \\frac{4 i}{17}\\right)}{4}\\end{matrix}\\right]$"
          },
          "metadata": {}
        }
      ]
    },
    {
      "cell_type": "markdown",
      "source": [
        "### Задание  6*.\n",
        "Описать функцию, которая считывает из файла матрицу и возвращает ее QR разложение. Применить функцию в цикле к файлам \"sem_12_task_6_k.xlsx\", $k=1, ...12$, вывести на экран для четных $k$ правый нижний элемент матрицы $Q$, а для нечетных левый верхний элемент $R$.  \n"
      ],
      "metadata": {
        "id": "H2KhOi8hglzz"
      }
    },
    {
      "cell_type": "code",
      "source": [],
      "metadata": {
        "id": "MTxP67T_g2Zx"
      },
      "execution_count": null,
      "outputs": []
    },
    {
      "cell_type": "markdown",
      "metadata": {
        "id": "gTTZBv9tEloE"
      },
      "source": [
        "### Индивидуальное задание.\n",
        "Считать из файла \"alg_12_ind_v_xx.xlsx\" матрицу $A$, построить и вывести на экран QR разложение матрицы $A$ и записать в файл \"alg_12_ind_v_xx_ans.xlsx\" на листы $Q$ и $R$ соответствующие матрицы."
      ]
    },
    {
      "cell_type": "code",
      "source": [
        "from google.colab import files\n",
        "uploaded = files.upload()"
      ],
      "metadata": {
        "colab": {
          "base_uri": "https://localhost:8080/",
          "height": 142
        },
        "id": "8XTL6styPMh6",
        "outputId": "ec3a828b-ec26-4b73-a7e3-407f4765e772"
      },
      "execution_count": null,
      "outputs": [
        {
          "output_type": "display_data",
          "data": {
            "text/plain": [
              "<IPython.core.display.HTML object>"
            ],
            "text/html": [
              "\n",
              "     <input type=\"file\" id=\"files-72371b69-0cb8-4800-be57-93203b29edb3\" name=\"files[]\" multiple disabled\n",
              "        style=\"border:none\" />\n",
              "     <output id=\"result-72371b69-0cb8-4800-be57-93203b29edb3\">\n",
              "      Upload widget is only available when the cell has been executed in the\n",
              "      current browser session. Please rerun this cell to enable.\n",
              "      </output>\n",
              "      <script>// Copyright 2017 Google LLC\n",
              "//\n",
              "// Licensed under the Apache License, Version 2.0 (the \"License\");\n",
              "// you may not use this file except in compliance with the License.\n",
              "// You may obtain a copy of the License at\n",
              "//\n",
              "//      http://www.apache.org/licenses/LICENSE-2.0\n",
              "//\n",
              "// Unless required by applicable law or agreed to in writing, software\n",
              "// distributed under the License is distributed on an \"AS IS\" BASIS,\n",
              "// WITHOUT WARRANTIES OR CONDITIONS OF ANY KIND, either express or implied.\n",
              "// See the License for the specific language governing permissions and\n",
              "// limitations under the License.\n",
              "\n",
              "/**\n",
              " * @fileoverview Helpers for google.colab Python module.\n",
              " */\n",
              "(function(scope) {\n",
              "function span(text, styleAttributes = {}) {\n",
              "  const element = document.createElement('span');\n",
              "  element.textContent = text;\n",
              "  for (const key of Object.keys(styleAttributes)) {\n",
              "    element.style[key] = styleAttributes[key];\n",
              "  }\n",
              "  return element;\n",
              "}\n",
              "\n",
              "// Max number of bytes which will be uploaded at a time.\n",
              "const MAX_PAYLOAD_SIZE = 100 * 1024;\n",
              "\n",
              "function _uploadFiles(inputId, outputId) {\n",
              "  const steps = uploadFilesStep(inputId, outputId);\n",
              "  const outputElement = document.getElementById(outputId);\n",
              "  // Cache steps on the outputElement to make it available for the next call\n",
              "  // to uploadFilesContinue from Python.\n",
              "  outputElement.steps = steps;\n",
              "\n",
              "  return _uploadFilesContinue(outputId);\n",
              "}\n",
              "\n",
              "// This is roughly an async generator (not supported in the browser yet),\n",
              "// where there are multiple asynchronous steps and the Python side is going\n",
              "// to poll for completion of each step.\n",
              "// This uses a Promise to block the python side on completion of each step,\n",
              "// then passes the result of the previous step as the input to the next step.\n",
              "function _uploadFilesContinue(outputId) {\n",
              "  const outputElement = document.getElementById(outputId);\n",
              "  const steps = outputElement.steps;\n",
              "\n",
              "  const next = steps.next(outputElement.lastPromiseValue);\n",
              "  return Promise.resolve(next.value.promise).then((value) => {\n",
              "    // Cache the last promise value to make it available to the next\n",
              "    // step of the generator.\n",
              "    outputElement.lastPromiseValue = value;\n",
              "    return next.value.response;\n",
              "  });\n",
              "}\n",
              "\n",
              "/**\n",
              " * Generator function which is called between each async step of the upload\n",
              " * process.\n",
              " * @param {string} inputId Element ID of the input file picker element.\n",
              " * @param {string} outputId Element ID of the output display.\n",
              " * @return {!Iterable<!Object>} Iterable of next steps.\n",
              " */\n",
              "function* uploadFilesStep(inputId, outputId) {\n",
              "  const inputElement = document.getElementById(inputId);\n",
              "  inputElement.disabled = false;\n",
              "\n",
              "  const outputElement = document.getElementById(outputId);\n",
              "  outputElement.innerHTML = '';\n",
              "\n",
              "  const pickedPromise = new Promise((resolve) => {\n",
              "    inputElement.addEventListener('change', (e) => {\n",
              "      resolve(e.target.files);\n",
              "    });\n",
              "  });\n",
              "\n",
              "  const cancel = document.createElement('button');\n",
              "  inputElement.parentElement.appendChild(cancel);\n",
              "  cancel.textContent = 'Cancel upload';\n",
              "  const cancelPromise = new Promise((resolve) => {\n",
              "    cancel.onclick = () => {\n",
              "      resolve(null);\n",
              "    };\n",
              "  });\n",
              "\n",
              "  // Wait for the user to pick the files.\n",
              "  const files = yield {\n",
              "    promise: Promise.race([pickedPromise, cancelPromise]),\n",
              "    response: {\n",
              "      action: 'starting',\n",
              "    }\n",
              "  };\n",
              "\n",
              "  cancel.remove();\n",
              "\n",
              "  // Disable the input element since further picks are not allowed.\n",
              "  inputElement.disabled = true;\n",
              "\n",
              "  if (!files) {\n",
              "    return {\n",
              "      response: {\n",
              "        action: 'complete',\n",
              "      }\n",
              "    };\n",
              "  }\n",
              "\n",
              "  for (const file of files) {\n",
              "    const li = document.createElement('li');\n",
              "    li.append(span(file.name, {fontWeight: 'bold'}));\n",
              "    li.append(span(\n",
              "        `(${file.type || 'n/a'}) - ${file.size} bytes, ` +\n",
              "        `last modified: ${\n",
              "            file.lastModifiedDate ? file.lastModifiedDate.toLocaleDateString() :\n",
              "                                    'n/a'} - `));\n",
              "    const percent = span('0% done');\n",
              "    li.appendChild(percent);\n",
              "\n",
              "    outputElement.appendChild(li);\n",
              "\n",
              "    const fileDataPromise = new Promise((resolve) => {\n",
              "      const reader = new FileReader();\n",
              "      reader.onload = (e) => {\n",
              "        resolve(e.target.result);\n",
              "      };\n",
              "      reader.readAsArrayBuffer(file);\n",
              "    });\n",
              "    // Wait for the data to be ready.\n",
              "    let fileData = yield {\n",
              "      promise: fileDataPromise,\n",
              "      response: {\n",
              "        action: 'continue',\n",
              "      }\n",
              "    };\n",
              "\n",
              "    // Use a chunked sending to avoid message size limits. See b/62115660.\n",
              "    let position = 0;\n",
              "    do {\n",
              "      const length = Math.min(fileData.byteLength - position, MAX_PAYLOAD_SIZE);\n",
              "      const chunk = new Uint8Array(fileData, position, length);\n",
              "      position += length;\n",
              "\n",
              "      const base64 = btoa(String.fromCharCode.apply(null, chunk));\n",
              "      yield {\n",
              "        response: {\n",
              "          action: 'append',\n",
              "          file: file.name,\n",
              "          data: base64,\n",
              "        },\n",
              "      };\n",
              "\n",
              "      let percentDone = fileData.byteLength === 0 ?\n",
              "          100 :\n",
              "          Math.round((position / fileData.byteLength) * 100);\n",
              "      percent.textContent = `${percentDone}% done`;\n",
              "\n",
              "    } while (position < fileData.byteLength);\n",
              "  }\n",
              "\n",
              "  // All done.\n",
              "  yield {\n",
              "    response: {\n",
              "      action: 'complete',\n",
              "    }\n",
              "  };\n",
              "}\n",
              "\n",
              "scope.google = scope.google || {};\n",
              "scope.google.colab = scope.google.colab || {};\n",
              "scope.google.colab._files = {\n",
              "  _uploadFiles,\n",
              "  _uploadFilesContinue,\n",
              "};\n",
              "})(self);\n",
              "</script> "
            ]
          },
          "metadata": {}
        },
        {
          "output_type": "stream",
          "name": "stdout",
          "text": [
            "Saving alg_12_ind_v_84.xlsx to alg_12_ind_v_84.xlsx\n",
            "Saving Alg_12_2024_25_LU_QR_task.ipynb to Alg_12_2024_25_LU_QR_task.ipynb\n",
            "Saving Alg_12_2024_25_LU_QR_sympy.ipynb to Alg_12_2024_25_LU_QR_sympy.ipynb\n"
          ]
        }
      ]
    },
    {
      "cell_type": "code",
      "source": [
        "import pandas as pd\n",
        "\n",
        "df = pd.read_excel(\"alg_12_ind_v_84.xlsx\")\n",
        "M = Matrix(df.to_numpy())\n",
        "display(M)\n",
        "\n",
        "Q, R = M.QRdecomposition()\n",
        "display(Q, R)\n",
        "\n",
        "with pd.ExcelWriter(\"alg_12_ind_v_84.xlsx\") as writer:\n",
        "  df_Q = pd.DataFrame(Q.tolist())\n",
        "  df_R = pd.DataFrame(R.tolist())\n",
        "\n",
        "  df_Q.to_excel(writer, sheet_name='Q', index=False, header=False)\n",
        "  df_R.to_excel(writer, sheet_name='R', index=False, header=False)"
      ],
      "metadata": {
        "id": "rwEGaR6-gSSV",
        "colab": {
          "base_uri": "https://localhost:8080/",
          "height": 288
        },
        "outputId": "6b5a7571-a9ea-4c26-8d2c-c4456beffe0c"
      },
      "execution_count": 43,
      "outputs": [
        {
          "output_type": "display_data",
          "data": {
            "text/plain": [
              "Matrix([\n",
              "[4, 3, 1, 1, 5],\n",
              "[4, 4, 5, 2, 8],\n",
              "[1, 3, 1, 0, 5],\n",
              "[3, 7, 1, 1, 3]])"
            ],
            "text/latex": "$\\displaystyle \\left[\\begin{matrix}4 & 3 & 1 & 1 & 5\\\\4 & 4 & 5 & 2 & 8\\\\1 & 3 & 1 & 0 & 5\\\\3 & 7 & 1 & 1 & 3\\end{matrix}\\right]$"
          },
          "metadata": {}
        },
        {
          "output_type": "display_data",
          "data": {
            "text/plain": [
              "Matrix([\n",
              "[2*sqrt(42)/21, -41*sqrt(8211)/8211,  -80*sqrt(156009)/52003,    -sqrt(798)/133],\n",
              "[2*sqrt(42)/21, -20*sqrt(8211)/8211, 293*sqrt(156009)/156009,   2*sqrt(798)/399],\n",
              "[  sqrt(42)/42,  37*sqrt(8211)/8211,  64*sqrt(156009)/156009, -25*sqrt(798)/798],\n",
              "[  sqrt(42)/14,      sqrt(8211)/119,    -4*sqrt(156009)/6783,  11*sqrt(798)/798]])"
            ],
            "text/latex": "$\\displaystyle \\left[\\begin{matrix}\\frac{2 \\sqrt{42}}{21} & - \\frac{41 \\sqrt{8211}}{8211} & - \\frac{80 \\sqrt{156009}}{52003} & - \\frac{\\sqrt{798}}{133}\\\\\\frac{2 \\sqrt{42}}{21} & - \\frac{20 \\sqrt{8211}}{8211} & \\frac{293 \\sqrt{156009}}{156009} & \\frac{2 \\sqrt{798}}{399}\\\\\\frac{\\sqrt{42}}{42} & \\frac{37 \\sqrt{8211}}{8211} & \\frac{64 \\sqrt{156009}}{156009} & - \\frac{25 \\sqrt{798}}{798}\\\\\\frac{\\sqrt{42}}{14} & \\frac{\\sqrt{8211}}{119} & - \\frac{4 \\sqrt{156009}}{6783} & \\frac{11 \\sqrt{798}}{798}\\end{matrix}\\right]$"
          },
          "metadata": {}
        },
        {
          "output_type": "display_data",
          "data": {
            "text/plain": [
              "Matrix([\n",
              "[sqrt(42), 26*sqrt(42)/21,       2*sqrt(42)/3,           5*sqrt(42)/14,          11*sqrt(42)/7],\n",
              "[       0,  sqrt(8211)/21, -5*sqrt(8211)/1173,      -4*sqrt(8211)/2737,      9*sqrt(8211)/2737],\n",
              "[       0,              0, 3*sqrt(156009)/391, 254*sqrt(156009)/156009, 396*sqrt(156009)/52003],\n",
              "[       0,              0,                  0,        13*sqrt(798)/798,      -15*sqrt(798)/133]])"
            ],
            "text/latex": "$\\displaystyle \\left[\\begin{matrix}\\sqrt{42} & \\frac{26 \\sqrt{42}}{21} & \\frac{2 \\sqrt{42}}{3} & \\frac{5 \\sqrt{42}}{14} & \\frac{11 \\sqrt{42}}{7}\\\\0 & \\frac{\\sqrt{8211}}{21} & - \\frac{5 \\sqrt{8211}}{1173} & - \\frac{4 \\sqrt{8211}}{2737} & \\frac{9 \\sqrt{8211}}{2737}\\\\0 & 0 & \\frac{3 \\sqrt{156009}}{391} & \\frac{254 \\sqrt{156009}}{156009} & \\frac{396 \\sqrt{156009}}{52003}\\\\0 & 0 & 0 & \\frac{13 \\sqrt{798}}{798} & - \\frac{15 \\sqrt{798}}{133}\\end{matrix}\\right]$"
          },
          "metadata": {}
        }
      ]
    }
  ]
}